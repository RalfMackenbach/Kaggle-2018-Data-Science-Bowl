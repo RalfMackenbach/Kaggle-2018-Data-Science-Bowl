{
 "cells": [
  {
   "cell_type": "code",
   "execution_count": 2,
   "metadata": {},
   "outputs": [],
   "source": [
    "import os\n",
    "from shutil import copy2\n",
    "import numpy as np\n",
    "import utils\n",
    "from scipy.misc import imsave\n",
    "from scipy.ndimage import imread"
   ]
  },
  {
   "cell_type": "code",
   "execution_count": 3,
   "metadata": {},
   "outputs": [],
   "source": [
    "# copy train_image to destination\n",
    "path = \"../data/stage1_train/\"\n",
    "for x in os.listdir(path):\n",
    "    if x != \".DS_Store\":\n",
    "        copy2(path + x + \"/images/\" + x + \".png\", \"../data/stage1_train_images/\")"
   ]
  },
  {
   "cell_type": "code",
   "execution_count": 10,
   "metadata": {},
   "outputs": [
    {
     "name": "stdout",
     "output_type": "stream",
     "text": [
      "     670     670   46230\r\n"
     ]
    }
   ],
   "source": [
    "!ls ../data/stage1_train_images/ | wc "
   ]
  },
  {
   "cell_type": "code",
   "execution_count": 11,
   "metadata": {},
   "outputs": [],
   "source": [
    "# copy test\n",
    "path = \"../data/stage1_test/\"\n",
    "for x in os.listdir(path):\n",
    "    if x != \".DS_Store\":\n",
    "        copy2(path + x + \"/images/\" + x + \".png\", \"../data/stage1_test_images/\")"
   ]
  },
  {
   "cell_type": "code",
   "execution_count": 9,
   "metadata": {},
   "outputs": [],
   "source": [
    "\"\"\"extend the given ndarry in shape H*W*C to 9 times in shape 3H*3W*C \n",
    "    The 2D transformation view is as:\n",
    "    from: |---|---|\n",
    "          | A | B |\n",
    "          |---|---|\n",
    "          | C | D |\n",
    "          |---|---|\n",
    "    to:   \n",
    "          |---|---|---|---|---|---|\n",
    "          | d | c | c | d | d | c |\n",
    "          |---|---|---|---|---|---|\n",
    "          | b | a | a | b | b | a |\n",
    "          |---|---|---|---|---|---|\n",
    "          | b | a | A | B | b | a |\n",
    "          |---|---|---|---|---|---|\n",
    "          | d | c | C | D | d | c |\n",
    "          |---|---|---|---|---|---|\n",
    "          | d | c | c | d | d | c |\n",
    "          |---|---|---|---|---|---|\n",
    "          | b | a | a | b | b | a |\n",
    "          |---|---|---|---|---|---|\n",
    "    \"\"\"\n",
    "origin = np.array([[['a1', 'a2', 'a3'],['b1', 'b2','a3']],[['c1', 'c2','a3'],['d1', 'd2','a3']]])\n",
    "\n",
    "print(\"----------------------origin--------------------------------\")\n",
    "print(origin)\n",
    "print(origin.shape)\n",
    "print(origin[:,:,0])\n",
    "print(origin[:,:,1])\n",
    "\n",
    "print(\"----------------------horizontal--------------------------------\")\n",
    "horizontal = np.fliplr(origin)\n",
    "print(horizontal.shape)\n",
    "print(horizontal[:,:,0])\n",
    "print(horizontal[:,:,1])\n",
    "\n",
    "print(\"----------------------vertical--------------------------------\")\n",
    "vertical = np.flipud(origin)\n",
    "print(vertical.shape)\n",
    "print(vertical[:,:,0])\n",
    "print(vertical[:,:,1])\n",
    "\n",
    "print(\"----------------------cornor--------------------------------\")\n",
    "cornor = np.flipud(horizontal)\n",
    "print(cornor.shape)\n",
    "print(cornor[:,:,0])\n",
    "print(cornor[:,:,1])\n",
    "\n",
    "print(\"----------------------row1--------------------------------\")\n",
    "row1 = np.concatenate((cornor,vertical,cornor), axis=1)\n",
    "print(row1.shape)\n",
    "print(row1[:,:,0])\n",
    "print(row1[:,:,1])\n",
    "\n",
    "print(\"----------------------row2--------------------------------\")\n",
    "row2 = np.concatenate((horizontal,origin,horizontal), axis=1)\n",
    "print(row2.shape)\n",
    "print(row2[:,:,0])\n",
    "print(row2[:,:,1])\n",
    "\n",
    "print(\"----------------------row3--------------------------------\")\n",
    "row3 = np.concatenate((cornor,vertical,cornor), axis=1)\n",
    "print(row3.shape)\n",
    "print(row3[:,:,0])\n",
    "print(row3[:,:,1])\n",
    "\n",
    "print(\"----------------------final--------------------------------\")\n",
    "final = np.concatenate((row1,row2,row3), axis=0)\n",
    "print(final.shape)\n",
    "print(final[:,:,0])\n",
    "print(final[:,:,1])\n",
    "\n",
    "def extend_sides(origin):\n",
    "    MARGIN = 1\n",
    "    horizontal = np.fliplr(origin)\n",
    "    vertical = np.flipud(origin)\n",
    "    cornor = np.flipud(horizontal)\n",
    "    row1 = np.concatenate((cornor,vertical,cornor), axis=1)\n",
    "    row2 = np.concatenate((horizontal,origin,horizontal), axis=1)\n",
    "    row3 = np.concatenate((cornor,vertical,cornor), axis=1)\n",
    "    full_size = np.concatenate((row1,row2,row3), axis=0)\n",
    "    H, W, _ = origin.shape\n",
    "    H_S = H - MARGIN\n",
    "    W_S = W - MARGIN\n",
    "    H_E = 2*H + MARGIN\n",
    "    W_E = 2*W + MARGIN\n",
    "    final = full_size[H_S:H_E, W_S:W_E, :]\n",
    "    return final\n",
    "\n",
    "a  = extend_sides(origin)\n",
    "print(a.shape)\n",
    "print(a[:,:,0])\n",
    "print(a[:,:,1])"
   ]
  },
  {
   "cell_type": "code",
   "execution_count": 4,
   "metadata": {},
   "outputs": [
    {
     "name": "stdout",
     "output_type": "stream",
     "text": [
      "1040 1388\n",
      "256 256\n"
     ]
    }
   ],
   "source": [
    "# seek max resolution\n",
    "max_h=0\n",
    "max_w=0\n",
    "min_h=99999\n",
    "min_w=99999\n",
    "for image_id in utils.TRAIN_IMAGE_IDS:\n",
    "  h,w,_ = utils.image2ndarry(image_id, training=True).shape\n",
    "  if h > max_h : max_h = h\n",
    "  if w > max_w : max_w = w\n",
    "  if h < min_h : min_h = h\n",
    "  if w < min_w : min_w = w\n",
    "print(max_h, max_w)\n",
    "print(min_h, min_w)"
   ]
  },
  {
   "cell_type": "code",
   "execution_count": 25,
   "metadata": {},
   "outputs": [],
   "source": [
    "# slice images into 256x256\n",
    "image_dst = utils.DATA_ROOT + \"stage1_train_256x256/images/\"\n",
    "mask_dst = utils.DATA_ROOT + \"stage1_train_256x256/masks/\"\n",
    "os.system(\"rm {}*\".format(image_dst))\n",
    "os.system(\"rm {}*\".format(mask_dst))\n",
    "image_ids = [x.split('.')[0] for x in os.listdir(utils.DATA_ROOT + \"stage1_train_images/\") if x.endswith(\".png\")]\n",
    "for image_id in image_ids:\n",
    "    img_np = imread(utils.DATA_ROOT + \"stage1_train_images/\" + image_id + \".png\")\n",
    "    H,W,C = img_np.shape\n",
    "    mask_np = utils.mask2ndarry(image_id, H, W)\n",
    "    if H < 256 or W < 256:\n",
    "        print(\"image {} size is {}x{}x{}, this program can't handle\".format(image_id, H, W, C) )\n",
    "    elif H == 256 and W == 256:\n",
    "        # save, not slice\n",
    "        imsave(image_dst + image_id + \".png\", img_np)\n",
    "        imsave(mask_dst + image_id + \".png\", mask_np)\n",
    "    else:\n",
    "        for h in range(0, H, 256):\n",
    "            if h+256 <= H:\n",
    "                start_h = h\n",
    "                end_h = h+256\n",
    "            else:\n",
    "                start_h = H - 256\n",
    "                end_h = H\n",
    "            for w in range(0, W, 256):\n",
    "                if w+256 <= W:\n",
    "                    start_w = w\n",
    "                    end_w = w+256\n",
    "                else:\n",
    "                    start_w = W - 256\n",
    "                    end_w = W\n",
    "                slice_img = img_np[start_h:end_h, start_w:end_w, :]\n",
    "                imsave(image_dst + image_id +\"_\"+str(start_h)+\"_\"+str(start_w) + \".png\", slice_img)\n",
    "                slice_mask = mask_np[start_h:end_h, start_w:end_w, :]\n",
    "                imsave(mask_dst + image_id +\"_\"+str(start_h)+\"_\"+str(start_w) + \".png\", slice_mask)"
   ]
  },
  {
   "cell_type": "code",
   "execution_count": 27,
   "metadata": {},
   "outputs": [
    {
     "name": "stdout",
     "output_type": "stream",
     "text": [
      "True\n",
      "True\n"
     ]
    }
   ],
   "source": [
    "# verify\n",
    "verify_id = \"4a424e0cb845cf6fd4d9fe62875552c7b89a4e0276cf16ebf46babe4656a794e\"\n",
    "img_before = imread(utils.DATA_ROOT + \"stage1_train_images/\" + verify_id + \".png\")\n",
    "img_after = imread(image_dst + verify_id + \".png\")\n",
    "print(img_before.all() == img_after.all())\n",
    "mask_before = utils.mask2ndarry(verify_id, img_before.shape[0], img_before.shape[1])\n",
    "mask_after = imread(mask_dst + verify_id + \".png\")\n",
    "print(mask_before.all() == mask_after.all())"
   ]
  },
  {
   "cell_type": "code",
   "execution_count": 8,
   "metadata": {},
   "outputs": [],
   "source": [
    "# classify train data by image size\n",
    "from scipy.ndimage import imread\n",
    "path = \"../data/stage1_train_images/\"\n",
    "dst_root = \"../data/stage1_train_size_classifier/\"\n",
    "for x in os.listdir(path):\n",
    "    if not os.path.isdir(path + x):\n",
    "        h,w,_ = imread(path + x).shape\n",
    "        folder = str(h) + 'x' + str(w)\n",
    "        if not os.path.exists(dst_root + folder):\n",
    "            os.mkdir(dst_root + folder)\n",
    "        copy2(path + x, dst_root + folder)"
   ]
  },
  {
   "cell_type": "code",
   "execution_count": 9,
   "metadata": {},
   "outputs": [],
   "source": [
    "# classify test data by image size\n",
    "from scipy.ndimage import imread\n",
    "path = \"../data/stage1_test_images/\"\n",
    "dst_root = \"../data/stage1_test_size_classifier/\"\n",
    "for x in os.listdir(path):\n",
    "    if not os.path.isdir(path + x):\n",
    "        h,w,_ = imread(path + x).shape\n",
    "        folder = str(h) + 'x' + str(w)\n",
    "        if not os.path.exists(dst_root + folder):\n",
    "            os.mkdir(dst_root + folder)\n",
    "        copy2(path + x, dst_root + folder)"
   ]
  },
  {
   "cell_type": "code",
   "execution_count": null,
   "metadata": {},
   "outputs": [],
   "source": []
  }
 ],
 "metadata": {
  "kernelspec": {
   "display_name": "Python [default]",
   "language": "python",
   "name": "python3"
  },
  "language_info": {
   "codemirror_mode": {
    "name": "ipython",
    "version": 3
   },
   "file_extension": ".py",
   "mimetype": "text/x-python",
   "name": "python",
   "nbconvert_exporter": "python",
   "pygments_lexer": "ipython3",
   "version": "3.6.1"
  }
 },
 "nbformat": 4,
 "nbformat_minor": 2
}
