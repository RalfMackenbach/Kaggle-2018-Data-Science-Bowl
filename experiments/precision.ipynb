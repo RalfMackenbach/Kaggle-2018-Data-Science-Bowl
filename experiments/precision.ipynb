{
 "cells": [
  {
   "cell_type": "code",
   "execution_count": 89,
   "metadata": {},
   "outputs": [],
   "source": [
    "import numpy as np\n",
    "import io\n",
    "import re\n",
    "from matplotlib import pyplot as plt\n",
    "from math import ceil\n",
    "from random import shuffle\n",
    "%matplotlib inline\n",
    "plt.rcParams['figure.figsize'] = (10.0, 4.0) # set default size of plots"
   ]
  },
  {
   "cell_type": "code",
   "execution_count": 3,
   "metadata": {},
   "outputs": [],
   "source": [
    "root = \"../data/\"\n",
    "train_dir = root + \"stage1_train/\"\n",
    "image_id = \"00071198d059ba7f5914a526d124d28e6d010c92466da21d4a04cd5413362552\"\n",
    "train_label_path = root + \"stage1_train_labels.csv\"\n",
    "save_path = \"/Users/user/Desktop/git/ronjian.github.io/assets/2018_Data_Science_Bowl_Notes/\""
   ]
  },
  {
   "cell_type": "code",
   "execution_count": 95,
   "metadata": {},
   "outputs": [],
   "source": [
    "object_list=[]\n",
    "with io.open(train_label_path ,'r') as f:\n",
    "    for line in f:\n",
    "        if re.search(image_id , line) is not None:\n",
    "            object_list.append(re.sub(image_id+\",\", \"\", line.strip(\"\\n\")))"
   ]
  },
  {
   "cell_type": "code",
   "execution_count": 40,
   "metadata": {},
   "outputs": [],
   "source": [
    "# transform the run-length object data into 3D matrix pixels\n",
    "def runlength_to_3D(obj_runlength, H, W):\n",
    "    obj_1D = np.zeros((H*W*4,)) # this should be parameterized for different size image \n",
    "    obj_runlength_list = obj_runlength.split(\" \")\n",
    "    for i in range(len(obj_runlength_list)):\n",
    "        if i % 2 == 0:\n",
    "            start_point = int(obj_runlength_list[i])\n",
    "        else:\n",
    "            run_length = int(obj_runlength_list[i])\n",
    "            obj_1D[start_point: start_point + run_length] = 255 # WHITE\n",
    "    obj_3D = np.stack((obj_1D[0:0+H*W ].reshape(H,W).T,\n",
    "                          obj_1D[1:1+H*W ].reshape(H,W).T,\n",
    "                          obj_1D[2:2+H*W ].reshape(H,W).T,\n",
    "                          obj_1D[3:3+H*W ].reshape(H,W).T\n",
    "                          ), axis = -1)\n",
    "    return obj_3D"
   ]
  },
  {
   "cell_type": "code",
   "execution_count": 41,
   "metadata": {},
   "outputs": [],
   "source": [
    "sample_3D = runlength_to_3D(object_list[0], H=256, W=256)"
   ]
  },
  {
   "cell_type": "code",
   "execution_count": 42,
   "metadata": {},
   "outputs": [
    {
     "data": {
      "image/png": "[encoded data removed]",
      "text/plain": [
       "<matplotlib.figure.Figure at 0x10dcc2240>"
      ]
     },
     "metadata": {},
     "output_type": "display_data"
    }
   ],
   "source": [
    "# each layer display, from left to right is 1st to 4th layer\n",
    "for i in range(4):\n",
    "    plt.subplot(1, 4, i + 1)\n",
    "    plt.imshow(sample_3D[:,:,i])\n",
    "    plt.title(\"layer %s\" % str(i+1))\n",
    "plt.show()"
   ]
  },
  {
   "cell_type": "markdown",
   "metadata": {},
   "source": [
    "$IoU(A,B) = \\frac{A \\cap B}{ A \\cup B}$"
   ]
  },
  {
   "cell_type": "code",
   "execution_count": 76,
   "metadata": {},
   "outputs": [],
   "source": [
    "# IoU between two matrix, if IoU =0 means no intersection.\n",
    "def iou(gt, pred):\n",
    "    gt_mask = gt>0\n",
    "    pred_mask = pred>0\n",
    "    intersection_cnt = np.sum(gt_mask * pred_mask)\n",
    "    union_cnt = np.sum(gt_mask) + np.sum(pred_mask) - intersection_cnt\n",
    "    iou = float(intersection_cnt) / float(union_cnt)\n",
    "    return iou"
   ]
  },
  {
   "cell_type": "markdown",
   "metadata": {},
   "source": [
    "$\\frac{1}{|thresholds|} \\sum_t \\frac{TP(t)}{TP(t) + FP(t) + FN(t)}$  "
   ]
  },
  {
   "cell_type": "code",
   "execution_count": 96,
   "metadata": {},
   "outputs": [],
   "source": [
    "# create fake predicting data, shrink the run-length by 25%\n",
    "pred_object_list = []\n",
    "for x in  object_list:\n",
    "    obj_l = x.split(\" \")\n",
    "    tmp_str = \"\"\n",
    "    for i in range(len(obj_l)):\n",
    "        if i % 2 == 0 :\n",
    "            start_point = obj_l[i]\n",
    "        else:\n",
    "            run_length = str(ceil( float(obj_l[i]) * 0.75 )) \n",
    "            if i == 1: \n",
    "                tmp_str += start_point + \" \" + run_length\n",
    "            else:\n",
    "                tmp_str += \" \" + start_point + \" \" + run_length\n",
    "    pred_object_list.append(tmp_str)\n",
    "shuffle(pred_object_list)"
   ]
  },
  {
   "cell_type": "code",
   "execution_count": 118,
   "metadata": {},
   "outputs": [],
   "source": [
    "threshold_list = [0.5, 0.55, 0.6, 0.65, 0.7, 0.75, 0.8, 0.85, 0.9, 0.95]\n",
    "def image_precision(pred_object_list, object_list):\n",
    "    tp_list = [0 for i in range(len(threshold_list))]\n",
    "    for pred in pred_object_list:\n",
    "        for gt in object_list:\n",
    "            v_iou =  iou(runlength_to_3D(gt, H=256, W=256), runlength_to_3D(pred, H=256, W=256)) \n",
    "            if v_iou > threshold_list[0]:\n",
    "                for i in range(len(threshold_list)):\n",
    "                    if v_iou > threshold_list[i]:\n",
    "                        tp_list[i] += 1\n",
    "    ground_truth_len = len(object_list)\n",
    "    pred_len = len(pred_object_list)\n",
    "    precision_ttl = 0\n",
    "    for i in range(len(tp_list)):\n",
    "        tmp = float(tp_list[i]) / (ground_truth_len + pred_len - tp_list[i])\n",
    "        print(\"precision is %f at threshold %f\" % (tmp, threshold_list[i]))\n",
    "        precision_ttl += tmp\n",
    "    return precision_ttl / len(tp_list)"
   ]
  },
  {
   "cell_type": "code",
   "execution_count": 119,
   "metadata": {},
   "outputs": [
    {
     "name": "stdout",
     "output_type": "stream",
     "text": [
      "precision is 1.000000 at threshold 0.500000\n",
      "precision is 1.000000 at threshold 0.550000\n",
      "precision is 1.000000 at threshold 0.600000\n",
      "precision is 1.000000 at threshold 0.650000\n",
      "precision is 1.000000 at threshold 0.700000\n",
      "precision is 1.000000 at threshold 0.750000\n",
      "precision is 0.102041 at threshold 0.800000\n",
      "precision is 0.080000 at threshold 0.850000\n",
      "precision is 0.000000 at threshold 0.900000\n",
      "precision is 0.000000 at threshold 0.950000\n"
     ]
    },
    {
     "data": {
      "text/plain": [
       "0.6182040816326531"
      ]
     },
     "execution_count": 119,
     "metadata": {},
     "output_type": "execute_result"
    }
   ],
   "source": [
    "image_precision(pred_object_list, object_list)"
   ]
  }
 ],
 "metadata": {
  "kernelspec": {
   "display_name": "Python 3",
   "language": "python",
   "name": "python3"
  },
  "language_info": {
   "codemirror_mode": {
    "name": "ipython",
    "version": 3
   },
   "file_extension": ".py",
   "mimetype": "text/x-python",
   "name": "python",
   "nbconvert_exporter": "python",
   "pygments_lexer": "ipython3",
   "version": "3.6.1"
  }
 },
 "nbformat": 4,
 "nbformat_minor": 2
}
